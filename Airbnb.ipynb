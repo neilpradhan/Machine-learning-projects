{
 "cells": [
  {
   "cell_type": "code",
   "execution_count": 1,
   "metadata": {},
   "outputs": [
    {
     "name": "stdout",
     "output_type": "stream",
     "text": [
      "79.6 109.6 133.0\n"
     ]
    }
   ],
   "source": [
    "import numpy as np\n",
    "import pandas as pd\n",
    "dc_listings = pd.read_csv('F:/education/data quest/machine learning sessions/Airbnb/dc_airbnb.csv')\n",
    "stripped_commas = dc_listings['price'].str.replace(',', '')\n",
    "stripped_dollars = stripped_commas.str.replace('$', '')\n",
    "dc_listings['price'] = stripped_dollars.astype('float')\n",
    "dc_listings = dc_listings.loc[np.random.permutation(len(dc_listings))]\n",
    "\n",
    "def predict_price_total(new_listing):\n",
    "    temp_df = dc_listings.copy()\n",
    "    ## Complete the function.\n",
    "    temp_df['distance']=temp_df['accommodates'].apply(lambda x: np.abs(x-new_listing))\n",
    "    temp_df=temp_df.sort_values('distance')\n",
    "    k=temp_df.iloc[0:5]['price'].mean()\n",
    "    return k\n",
    "acc_one = predict_price_total(1)\n",
    "acc_two = predict_price_total(2)\n",
    "acc_four = predict_price_total(4)\n",
    "print(acc_one,acc_two,acc_four)"
   ]
  },
  {
   "cell_type": "code",
   "execution_count": 6,
   "metadata": {},
   "outputs": [
    {
     "name": "stdout",
     "output_type": "stream",
     "text": [
      "3696    130.2\n",
      "142     349.6\n",
      "182     142.6\n",
      "1678    130.2\n",
      "2173    130.2\n",
      "1716    142.6\n",
      "2530    130.2\n",
      "2329    245.8\n",
      "2042    130.2\n",
      "3266    130.2\n",
      "3077    130.2\n",
      "3169    142.6\n",
      "98      225.8\n",
      "2659    130.2\n",
      "3523    130.2\n",
      "931     130.2\n",
      "572     130.2\n",
      "1924    146.0\n",
      "1273    142.6\n",
      "224     142.6\n",
      "106     146.0\n",
      "1127     53.4\n",
      "845     146.0\n",
      "1413    130.2\n",
      "3705    276.6\n",
      "938     146.0\n",
      "741     276.6\n",
      "3498    146.0\n",
      "2066    130.2\n",
      "1272    130.2\n",
      "        ...  \n",
      "150     142.6\n",
      "430     130.2\n",
      "1596    801.8\n",
      "366     146.0\n",
      "1714    130.2\n",
      "2475    130.2\n",
      "1710    130.2\n",
      "1305     53.4\n",
      "749     142.6\n",
      "49      130.2\n",
      "802     130.2\n",
      "1046    142.6\n",
      "895     142.6\n",
      "3313     53.4\n",
      "2499    146.0\n",
      "2700    142.6\n",
      "3420    142.6\n",
      "2553    276.6\n",
      "942     146.0\n",
      "1769    146.0\n",
      "2005    245.8\n",
      "59      130.2\n",
      "1817    130.2\n",
      "1248    146.0\n",
      "2419    142.6\n",
      "954     245.8\n",
      "3186    130.2\n",
      "2633    130.2\n",
      "3563    130.2\n",
      "1520    146.0\n",
      "Name: predicted_price, Length: 931, dtype: float64 3696     70.0\n",
      "142     300.0\n",
      "182     210.0\n",
      "1678    128.0\n",
      "2173     79.0\n",
      "1716    115.0\n",
      "2530    100.0\n",
      "2329    189.0\n",
      "2042     90.0\n",
      "3266     65.0\n",
      "3077     95.0\n",
      "3169    139.0\n",
      "98      375.0\n",
      "2659     70.0\n",
      "3523    120.0\n",
      "931     110.0\n",
      "572     200.0\n",
      "1924     71.0\n",
      "1273    140.0\n",
      "224      99.0\n",
      "106     299.0\n",
      "1127     65.0\n",
      "845     350.0\n",
      "1413    156.0\n",
      "3705     97.0\n",
      "938     250.0\n",
      "741     600.0\n",
      "3498     95.0\n",
      "2066     85.0\n",
      "1272     85.0\n",
      "        ...  \n",
      "150     150.0\n",
      "430      55.0\n",
      "1596    299.0\n",
      "366     140.0\n",
      "1714     69.0\n",
      "2475    110.0\n",
      "1710    250.0\n",
      "1305    100.0\n",
      "749      40.0\n",
      "49      400.0\n",
      "802     120.0\n",
      "1046    240.0\n",
      "895     239.0\n",
      "3313     50.0\n",
      "2499    155.0\n",
      "2700    120.0\n",
      "3420    150.0\n",
      "2553    209.0\n",
      "942     149.0\n",
      "1769    105.0\n",
      "2005    325.0\n",
      "59       65.0\n",
      "1817     65.0\n",
      "1248    196.0\n",
      "2419    119.0\n",
      "954      36.0\n",
      "3186    110.0\n",
      "2633     90.0\n",
      "3563     50.0\n",
      "1520     90.0\n",
      "Name: price, Length: 931, dtype: float64\n"
     ]
    },
    {
     "name": "stderr",
     "output_type": "stream",
     "text": [
      "C:\\Users\\neil pradhan\\Anaconda3\\lib\\site-packages\\ipykernel_launcher.py:11: SettingWithCopyWarning: \n",
      "A value is trying to be set on a copy of a slice from a DataFrame.\n",
      "Try using .loc[row_indexer,col_indexer] = value instead\n",
      "\n",
      "See the caveats in the documentation: http://pandas.pydata.org/pandas-docs/stable/indexing.html#indexing-view-versus-copy\n",
      "  # This is added back by InteractiveShellApp.init_path()\n"
     ]
    }
   ],
   "source": [
    "train_df = dc_listings.iloc[0:2792]\n",
    "test_df = dc_listings.iloc[2792:]\n",
    "def predict_price(new_listing):\n",
    "    temp_df = train_df.copy()\n",
    "    temp_df['distance'] = temp_df['accommodates'].apply(lambda x: np.abs(x - new_listing))\n",
    "    temp_df = temp_df.sort_values('distance')\n",
    "    nearest_neighbor_prices = temp_df.iloc[0:5]['price']\n",
    "    predicted_price = nearest_neighbor_prices.mean()\n",
    "    return(predicted_price)\n",
    "\n",
    "test_df['predicted_price'] = test_df['accommodates'].apply(predict_price)\n",
    "print(test_df['predicted_price'],test_df['price'])\n"
   ]
  },
  {
   "cell_type": "markdown",
   "metadata": {},
   "source": [
    "# lets us find the mean absolute error"
   ]
  },
  {
   "cell_type": "code",
   "execution_count": 7,
   "metadata": {},
   "outputs": [
    {
     "name": "stdout",
     "output_type": "stream",
     "text": [
      "67.04425349086964\n"
     ]
    },
    {
     "name": "stderr",
     "output_type": "stream",
     "text": [
      "C:\\Users\\neil pradhan\\Anaconda3\\lib\\site-packages\\ipykernel_launcher.py:1: SettingWithCopyWarning: \n",
      "A value is trying to be set on a copy of a slice from a DataFrame.\n",
      "Try using .loc[row_indexer,col_indexer] = value instead\n",
      "\n",
      "See the caveats in the documentation: http://pandas.pydata.org/pandas-docs/stable/indexing.html#indexing-view-versus-copy\n",
      "  \"\"\"Entry point for launching an IPython kernel.\n"
     ]
    }
   ],
   "source": [
    "test_df['squared_error']=np.absolute(test_df['predicted_price']-test_df['price'])\n",
    "mae=test_df['squared_error'].mean()\n",
    "print(mae)"
   ]
  },
  {
   "cell_type": "markdown",
   "metadata": {},
   "source": [
    "# let us find the mean squared error"
   ]
  },
  {
   "cell_type": "code",
   "execution_count": 8,
   "metadata": {},
   "outputs": [
    {
     "name": "stdout",
     "output_type": "stream",
     "text": [
      "16547.98543501601\n"
     ]
    },
    {
     "name": "stderr",
     "output_type": "stream",
     "text": [
      "C:\\Users\\neil pradhan\\Anaconda3\\lib\\site-packages\\ipykernel_launcher.py:1: SettingWithCopyWarning: \n",
      "A value is trying to be set on a copy of a slice from a DataFrame.\n",
      "Try using .loc[row_indexer,col_indexer] = value instead\n",
      "\n",
      "See the caveats in the documentation: http://pandas.pydata.org/pandas-docs/stable/indexing.html#indexing-view-versus-copy\n",
      "  \"\"\"Entry point for launching an IPython kernel.\n"
     ]
    }
   ],
   "source": [
    "test_df['squared_terms']=(test_df['predicted_price']-test_df['price'])**2\n",
    "mse=test_df['squared_terms'].mean()\n",
    "print(mse)"
   ]
  },
  {
   "cell_type": "markdown",
   "metadata": {},
   "source": [
    "let us create another model with bathrooms as parameters instead of accomodates"
   ]
  },
  {
   "cell_type": "code",
   "execution_count": 9,
   "metadata": {},
   "outputs": [
    {
     "name": "stdout",
     "output_type": "stream",
     "text": [
      "17399.74414607941\n"
     ]
    },
    {
     "name": "stderr",
     "output_type": "stream",
     "text": [
      "C:\\Users\\neil pradhan\\Anaconda3\\lib\\site-packages\\ipykernel_launcher.py:10: SettingWithCopyWarning: \n",
      "A value is trying to be set on a copy of a slice from a DataFrame.\n",
      "Try using .loc[row_indexer,col_indexer] = value instead\n",
      "\n",
      "See the caveats in the documentation: http://pandas.pydata.org/pandas-docs/stable/indexing.html#indexing-view-versus-copy\n",
      "  # Remove the CWD from sys.path while we load stuff.\n",
      "C:\\Users\\neil pradhan\\Anaconda3\\lib\\site-packages\\ipykernel_launcher.py:11: SettingWithCopyWarning: \n",
      "A value is trying to be set on a copy of a slice from a DataFrame.\n",
      "Try using .loc[row_indexer,col_indexer] = value instead\n",
      "\n",
      "See the caveats in the documentation: http://pandas.pydata.org/pandas-docs/stable/indexing.html#indexing-view-versus-copy\n",
      "  # This is added back by InteractiveShellApp.init_path()\n"
     ]
    }
   ],
   "source": [
    "train_df = dc_listings.iloc[0:2792]\n",
    "test_df = dc_listings.iloc[2792:]\n",
    "def predict_price_model2(new_listing):\n",
    "    temp_df = train_df.copy()\n",
    "    temp_df['distance'] = temp_df['bathrooms'].apply(lambda x: np.abs(x - new_listing))\n",
    "    temp_df = temp_df.sort_values('distance')\n",
    "    nearest_neighbor_prices = temp_df.iloc[0:5]['price']\n",
    "    predicted_price = nearest_neighbor_prices.mean()\n",
    "    return(predicted_price)\n",
    "test_df['predicted_price'] = test_df['bathrooms'].apply(predict_price_model2)\n",
    "test_df['squared_error'] = (test_df['predicted_price'] - test_df['price'])**(2)\n",
    "mse = test_df['squared_error'].mean()\n",
    "print(mse)"
   ]
  },
  {
   "cell_type": "code",
   "execution_count": 10,
   "metadata": {},
   "outputs": [
    {
     "name": "stdout",
     "output_type": "stream",
     "text": [
      "<class 'pandas.core.frame.DataFrame'>\n",
      "Int64Index: 3723 entries, 574 to 1061\n",
      "Data columns (total 19 columns):\n",
      "host_response_rate      3289 non-null object\n",
      "host_acceptance_rate    3109 non-null object\n",
      "host_listings_count     3723 non-null int64\n",
      "accommodates            3723 non-null int64\n",
      "room_type               3723 non-null object\n",
      "bedrooms                3702 non-null float64\n",
      "bathrooms               3696 non-null float64\n",
      "beds                    3712 non-null float64\n",
      "price                   3723 non-null float64\n",
      "cleaning_fee            2335 non-null object\n",
      "security_deposit        1426 non-null object\n",
      "minimum_nights          3723 non-null int64\n",
      "maximum_nights          3723 non-null int64\n",
      "number_of_reviews       3723 non-null int64\n",
      "latitude                3723 non-null float64\n",
      "longitude               3723 non-null float64\n",
      "city                    3723 non-null object\n",
      "zipcode                 3714 non-null object\n",
      "state                   3723 non-null object\n",
      "dtypes: float64(6), int64(5), object(8)\n",
      "memory usage: 581.7+ KB\n"
     ]
    }
   ],
   "source": [
    "import pandas as pd\n",
    "import numpy as np\n",
    "np.random.seed(1)\n",
    "dc_listings = pd.read_csv('F:/education/data quest/machine learning sessions/Airbnb/dc_airbnb.csv')\n",
    "dc_listings = dc_listings.loc[np.random.permutation(len(dc_listings))]\n",
    "stripped_commas = dc_listings['price'].str.replace(',', '')\n",
    "stripped_dollars = stripped_commas.str.replace('$', '')\n",
    "dc_listings['price'] = stripped_dollars.astype('float')\n",
    "dc_listings.info()"
   ]
  },
  {
   "cell_type": "code",
   "execution_count": 11,
   "metadata": {},
   "outputs": [
    {
     "name": "stdout",
     "output_type": "stream",
     "text": [
      "accommodates            0\n",
      "bedrooms               21\n",
      "bathrooms              27\n",
      "beds                   11\n",
      "price                   0\n",
      "cleaning_fee         1388\n",
      "security_deposit     2297\n",
      "minimum_nights          0\n",
      "maximum_nights          0\n",
      "number_of_reviews       0\n",
      "dtype: int64\n"
     ]
    }
   ],
   "source": [
    "drop_columns = ['room_type', 'city', 'state', 'latitude', 'longitude', 'zipcode', 'host_response_rate', 'host_acceptance_rate', 'host_listings_count']\n",
    "dc_listings = dc_listings.drop(drop_columns, axis=1)\n",
    "print(dc_listings.isnull().sum())"
   ]
  },
  {
   "cell_type": "code",
   "execution_count": 12,
   "metadata": {},
   "outputs": [
    {
     "name": "stdout",
     "output_type": "stream",
     "text": [
      "accommodates         0\n",
      "bedrooms             0\n",
      "bathrooms            0\n",
      "beds                 0\n",
      "price                0\n",
      "minimum_nights       0\n",
      "maximum_nights       0\n",
      "number_of_reviews    0\n",
      "dtype: int64\n"
     ]
    }
   ],
   "source": [
    "drop_additional_columns=['cleaning_fee','security_deposit']\n",
    "dc_listings=dc_listings.drop(drop_additional_columns, axis=1)\n",
    "dc_listings=dc_listings.dropna(axis=0)\n",
    "print(dc_listings.isnull().sum())\n",
    "\n"
   ]
  },
  {
   "cell_type": "code",
   "execution_count": 13,
   "metadata": {},
   "outputs": [
    {
     "name": "stdout",
     "output_type": "stream",
     "text": [
      "      accommodates  bedrooms  bathrooms      beds  price  minimum_nights  \\\n",
      "574      -0.596544 -0.249467  -0.439151 -0.546858  125.0       -0.341375   \n",
      "1593     -0.596544 -0.249467   0.412923 -0.546858   85.0       -0.341375   \n",
      "3091     -1.095499 -0.249467  -1.291226 -0.546858   50.0       -0.341375   \n",
      "\n",
      "      maximum_nights  number_of_reviews  \n",
      "574        -0.016604           4.579650  \n",
      "1593       -0.016603           1.159275  \n",
      "3091       -0.016573          -0.482505  \n"
     ]
    }
   ],
   "source": [
    "normalized_listings = (dc_listings - dc_listings.mean()) / (dc_listings.std())\n",
    "normalized_listings['price']=dc_listings['price']\n",
    "print(normalized_listings.head(3))"
   ]
  },
  {
   "cell_type": "code",
   "execution_count": 14,
   "metadata": {},
   "outputs": [
    {
     "name": "stdout",
     "output_type": "stream",
     "text": [
      "5.272543124668404\n"
     ]
    }
   ],
   "source": [
    "from scipy.spatial import distance\n",
    "first_listing=normalized_listings.iloc[0][['accommodates', 'bathrooms']]\n",
    "fifth_listing=normalized_listings.iloc[4][['accommodates','bathrooms']]\n",
    "first_fifth_distance=distance.euclidean(first_listing,fifth_listing)\n",
    "print(first_fifth_distance)"
   ]
  },
  {
   "cell_type": "code",
   "execution_count": 15,
   "metadata": {
    "scrolled": true
   },
   "outputs": [
    {
     "name": "stdout",
     "output_type": "stream",
     "text": [
      "[  80.8  251.2   89.4   80.8   80.8   80.8  189.8  167.8  167.8  199.\n",
      "  251.2  166.6   81.   276.8   80.8   80.8   80.8  166.6   76.2  982.2\n",
      "   80.8  245.8  167.8  216.2   80.8   80.8  167.8  189.8  225.8   81.\n",
      "   81.    80.8   80.8   80.8   80.8   80.8   80.8  166.6  225.8  245.4\n",
      "  225.8   80.8   81.   167.8  135.2  167.8  167.8   80.8   80.8   80.8\n",
      "   81.    80.8   80.8   80.8  188.   135.2   92.4  145.8   80.8  251.2\n",
      "   80.8  135.2  167.8   90.4   80.8  135.2   80.8   80.8   80.8  135.2\n",
      "  166.6  223.6   80.8  135.2   80.8  135.2   80.8  106.8   80.8   80.8\n",
      "   80.8  135.2  251.2  189.8   80.8   80.8   80.8  135.2   89.4  276.8\n",
      "  199.    81.    81.    80.8   80.8  304.6  135.2  135.2  135.2  167.8\n",
      "   80.8  135.2   80.8  216.2  167.8   80.8   81.    80.8   80.8   89.4\n",
      "  225.8   80.8  189.8  238.   106.8   81.   167.8  188.   277.6  135.2\n",
      "   80.8  167.8   80.8  167.8   80.8  534.   135.2  167.8  167.8   62.8\n",
      "  167.8   80.8  135.2   80.8   80.8   80.8  166.6   80.8   90.4  251.2\n",
      "  167.8  135.2   80.8  276.8  167.8   80.8   81.    81.    90.4  135.2\n",
      "  167.8   80.8  225.8  216.2   81.   167.8  276.8  135.2   80.8   80.8\n",
      "  167.8   80.8  276.8  135.2  167.8  166.6   80.8  251.2   80.8   80.8\n",
      "  189.8   80.8  216.2  188.    80.8   80.8  216.2   80.8   80.8  135.2\n",
      "   80.8   89.4   80.8  240.6   80.8   81.    80.8  167.8  189.8  167.8\n",
      "   80.8   90.4   80.8  276.8  166.6   80.8   81.    90.4  167.8   92.4\n",
      "   80.8  135.2  135.2   80.8  167.8   80.8   80.8  167.8  216.2  240.6\n",
      "   80.8   80.8  166.6  167.8  187.8   80.8   80.8   80.8   80.8   80.8\n",
      "   80.8  135.2   80.8  167.8   80.8  304.6   81.   238.   238.   167.8\n",
      "  135.2   81.    80.8   80.8  216.2   81.   135.2   80.8  240.6  251.2\n",
      "   81.   238.   238.   167.8   80.8   80.8  380.   167.8  135.2  167.8\n",
      "   80.8   80.8   81.    80.8   80.8   80.8  188.    80.8   80.8  167.8\n",
      "   80.8  135.2  199.   135.2   80.8   80.8  276.8  167.8   80.8   80.8\n",
      "   80.8   80.8  167.8   80.8  189.8  216.2  276.8   81.   225.8   85.8\n",
      "  135.2  167.8   80.8   80.8   80.8  216.2  304.6   81.   135.2  240.6\n",
      "   80.8  225.8  135.2  276.8  135.2   80.8   80.8   80.8   80.8   81.\n",
      "   80.8   80.8   80.8   80.8   81.   135.2   80.8   80.8  251.2  167.8\n",
      "   80.8  225.8   80.8 1002.2   80.8  199.   167.8   80.8  166.6  135.2\n",
      "  198.8   80.8   80.8   62.8   81.   188.   167.8   80.8   81.    80.8\n",
      "   80.8  619.    80.8   81.    80.8  135.2   80.8   81.   135.2   80.8\n",
      "   80.8  135.2  135.2   81.    81.    81.   167.8  135.2   81.    80.8\n",
      "   81.    80.8  188.   240.6   81.   167.8  135.2   80.8   80.8  245.8\n",
      "  490.    80.8   81.   504.8   80.8  188.    80.8  276.8   80.8  145.8\n",
      "  490.   612.2   92.4   80.8  166.6   80.8  240.6   80.8  310.8   80.8\n",
      "  251.2  828.2  135.2   80.8  167.8   80.8  199.   225.8   80.8   80.8\n",
      "  167.8   81.   167.8   90.4  216.2   80.8   81.   135.2  216.2  135.2\n",
      "  199.    80.8  199.    80.8   80.8  245.8   80.8   81.    90.4  216.2\n",
      " 1002.2  225.8   80.8  167.8  108.8   80.8   80.8   80.8   80.8  276.8\n",
      "  135.2  167.8   80.8  167.8   90.4   80.8  188.    80.8   80.8  135.2\n",
      "   80.8  277.6  251.2   80.8   80.8  167.8  279.8  276.8  135.2   80.8\n",
      "   92.4  199.    92.4  238.   240.6   81.   216.2   80.8  199.    80.8\n",
      "   80.8   80.8  188.   279.8  135.2   80.8  166.6  167.8   80.8   80.8\n",
      "   81.   135.2  189.8  167.8   80.8   81.   106.8  167.8   81.    62.8\n",
      "   80.8  277.6  167.8   80.8   80.8   80.8   80.8  166.6  167.8   92.4\n",
      "   80.8  167.8   81.   135.2  167.8   81.    80.8  216.2   81.    80.8\n",
      "  380.    81.    80.8   80.8   80.8  167.8  619.   135.2  216.2   80.8\n",
      "   80.8   80.8  135.2  135.2   80.8  167.8  135.2  245.8  167.8  135.2\n",
      "   80.8  166.6  199.   135.2   80.8   80.8   81.   135.2  166.6   81.\n",
      "  188.    81.   135.2   80.8   80.8  106.8   80.8   80.8  167.8   80.8\n",
      "  167.8   80.8   80.8  189.8  166.6  199.    80.8   80.8   92.4   60.8\n",
      "   80.8  166.6   80.8   80.8  135.2  135.2  135.2  135.2   80.8  216.2\n",
      "  167.8   80.8  135.2   80.8   80.8   80.8   80.8  135.2   80.8   80.8\n",
      "   80.8   80.8   80.8  276.8   90.4  135.2   80.8   80.8  251.2   80.8\n",
      "   81.   135.2   80.8  199.   189.8   80.8   80.8  253.    81.    80.8\n",
      "   80.8  106.8   80.8   80.8   80.8   80.8  167.8   81.   167.8  135.2\n",
      "  167.8  167.8   90.4   80.8   80.8  167.8  199.   240.6  135.2   80.8\n",
      "   81.    80.8  225.8  135.2  167.8  167.8  135.2  166.6  167.8   80.8\n",
      "  225.8   80.8   80.8  207.8   81.    80.8   80.8   80.8  189.8  199.\n",
      "  135.2   80.8   80.8   80.8  207.8   80.8   80.8   80.8  135.2   80.8\n",
      "  189.8  135.2  135.2  106.8   80.8  167.8   80.8   80.8  276.8  167.8\n",
      "   90.4   80.8   81.    80.8   80.8  135.2   80.8  135.2  135.2  189.8\n",
      "   80.8  167.8  240.6  199.   166.6  251.2  167.8  135.2  199.    80.8\n",
      "  238.   251.2  135.2  279.8  167.8   80.8  167.8   80.8   80.8   80.8\n",
      "   81.   167.8   80.8  135.2  135.2   80.8  279.8  167.8  216.2   80.8\n",
      "  304.6  135.2  167.8  251.2   81.    62.8   90.4   81.   216.2  251.2\n",
      "  167.8  188.    80.8  135.2  167.8   80.8  166.6  145.8   80.8  166.6\n",
      "   81.   167.8  198.8   80.8  189.8   80.8   80.8   80.8  688.8   80.8\n",
      "  251.2  167.8   80.8   80.8   80.8  167.8   80.8   80.8   80.8   80.8\n",
      "  167.8   80.8  166.6   80.8  207.8   80.8  225.8   80.8  167.8   80.8\n",
      "  167.8   80.8  167.8  216.2  167.8  166.6   80.8  189.8  135.2   80.8\n",
      "  199.   251.2  238.    80.8  277.6  167.8   80.8   81.   167.8  135.2\n",
      "   92.4   80.8  299.8   80.8  135.2  135.2   80.8  135.2   80.8  167.8\n",
      "  240.6  166.6   80.8  296.6   90.4  383.8  167.8   80.8   80.8   80.8\n",
      "   80.8   80.8  276.8   80.8  380.    80.8  216.2  167.8   80.8   81.\n",
      "   80.8   80.8  245.4  167.8   80.8  216.2   80.8   90.4   80.8   80.8\n",
      "   80.8  167.8   81.    80.8  135.2  225.8  135.2  135.2   80.8   80.8\n",
      "  166.6   80.8  167.8  240.6   62.8  167.8   80.8  167.8  166.6   80.8\n",
      "   90.4  135.2   80.8  135.2  135.2  167.8   80.8   80.8  199.    80.8\n",
      "  167.8  167.8   80.8   80.8   80.8  445.4  167.8  167.8  167.8  225.8\n",
      "   80.8  135.2  135.2  135.2   80.8  534.   166.6   80.8   80.8  167.8\n",
      "   80.8   80.8  189.8  166.6   80.8  166.6   80.8   81.    80.8   80.8\n",
      "  167.8   80.8  550.2  216.2  189.8  216.2   81.    80.8  199.    80.8\n",
      "  135.2   85.8   80.8   80.8   80.8  167.8  240.6  199.    80.8  135.2\n",
      "   80.8   80.8  199.   304.6   81.    81.    85.8  198.8  276.8]\n"
     ]
    }
   ],
   "source": [
    "from sklearn.neighbors import KNeighborsRegressor\n",
    "\n",
    "train_df = normalized_listings.iloc[0:2792]\n",
    "test_df = normalized_listings.iloc[2792:]\n",
    "train_columns = ['accommodates', 'bathrooms']\n",
    "\n",
    "\n",
    "knn = KNeighborsRegressor(n_neighbors=5, algorithm='brute')\n",
    "knn.fit(train_df[train_columns], train_df['price'])\n",
    "predictions = knn.predict(test_df[train_columns])\n",
    "print(predictions)"
   ]
  },
  {
   "cell_type": "markdown",
   "metadata": {},
   "source": [
    "# to see for only one variable acccomodates"
   ]
  },
  {
   "cell_type": "code",
   "execution_count": 16,
   "metadata": {},
   "outputs": [
    {
     "name": "stdout",
     "output_type": "stream",
     "text": [
      "[ 94.2 158.8  94.2  94.2  94.2  94.2 158.8 152.6 152.6 159.6 158.8  94.2\n",
      "  55.2 159.6  94.2  94.2  94.2  94.2  55.2 453.6  94.2 158.8 152.6 152.6\n",
      "  94.2  94.2 152.6 158.8 159.6  55.2  55.2  94.2  94.2  94.2  94.2  94.2\n",
      "  94.2  94.2 159.6 263.6 159.6  94.2  55.2 152.6 129.8 152.6 152.6  94.2\n",
      "  94.2  94.2  55.2  94.2  94.2  94.2 159.6 129.8 129.8 129.8  94.2 158.8\n",
      "  94.2 129.8 152.6  94.2  94.2 129.8  94.2  94.2  94.2 129.8  94.2 287.4\n",
      "  94.2 129.8  94.2 129.8  94.2 158.8  94.2  94.2  94.2 129.8 158.8 158.8\n",
      "  94.2  94.2  94.2 129.8  94.2 159.6 159.6  55.2  55.2  94.2  94.2 263.6\n",
      " 129.8 129.8 129.8 152.6  94.2 129.8  94.2 152.6 152.6  94.2  55.2  94.2\n",
      "  94.2  94.2 159.6  94.2 158.8 152.6 158.8  55.2 152.6 159.6 297.8 129.8\n",
      "  94.2 152.6  94.2 152.6  94.2 263.6 129.8 152.6 152.6  55.2 152.6  94.2\n",
      " 129.8  94.2  94.2  94.2  94.2  94.2  94.2 158.8 152.6 129.8  94.2 159.6\n",
      " 152.6  94.2  55.2  55.2  94.2 129.8 152.6  94.2 159.6 152.6  55.2 152.6\n",
      " 159.6 129.8  94.2  94.2 152.6  94.2 159.6 129.8 152.6  94.2  94.2 158.8\n",
      "  94.2  94.2 158.8  94.2 152.6 159.6  94.2  94.2 152.6  94.2  94.2 129.8\n",
      "  94.2  94.2  94.2 152.6  94.2  55.2  94.2 152.6 158.8 152.6  94.2  94.2\n",
      "  94.2 159.6  94.2  94.2  55.2  94.2 152.6 129.8  94.2 129.8 129.8  94.2\n",
      " 152.6  94.2  94.2 152.6 152.6 152.6  94.2  94.2  94.2 152.6 129.8  94.2\n",
      "  94.2  94.2  94.2  94.2  94.2 129.8  94.2 152.6  94.2 263.6  55.2 152.6\n",
      " 152.6 152.6 129.8  55.2  94.2  94.2 152.6  55.2 129.8  94.2 152.6 158.8\n",
      "  55.2 152.6 152.6 152.6  94.2  94.2 159.6 152.6 129.8 152.6  94.2  94.2\n",
      "  55.2  94.2  94.2  94.2 159.6  94.2  94.2 152.6  94.2 129.8 159.6 129.8\n",
      "  94.2  94.2 159.6 152.6  94.2  94.2  94.2  94.2 152.6  94.2 158.8 152.6\n",
      " 159.6  55.2 159.6  94.2 129.8 152.6  94.2  94.2  94.2 152.6 263.6  55.2\n",
      " 129.8 152.6  94.2 159.6 129.8 159.6 129.8  94.2  94.2  94.2  94.2  55.2\n",
      "  94.2  94.2  94.2  94.2  55.2 129.8  94.2  94.2 158.8 152.6  94.2 159.6\n",
      "  94.2 611.6  94.2 159.6 152.6  94.2  94.2 129.8 297.8  94.2  94.2  55.2\n",
      "  55.2 159.6 152.6  94.2  55.2  94.2  94.2 297.8  94.2  55.2  94.2 129.8\n",
      "  94.2  55.2 129.8  94.2  94.2 129.8 129.8  55.2  55.2  55.2 152.6 129.8\n",
      "  55.2  94.2  55.2  94.2 159.6 152.6  55.2 152.6 129.8  94.2  94.2 158.8\n",
      " 534.6  94.2  55.2 287.4  94.2 159.6  94.2 159.6  94.2 129.8 534.6 159.6\n",
      " 129.8  94.2  94.2  94.2 152.6  94.2 312.8  94.2 158.8 742.  129.8  94.2\n",
      " 152.6  94.2 159.6 159.6  94.2  94.2 152.6  55.2 152.6  94.2 152.6  94.2\n",
      "  55.2 129.8 152.6 129.8 159.6  94.2 159.6  94.2  94.2 158.8  94.2  55.2\n",
      "  94.2 152.6 611.6 159.6  94.2 152.6  94.2  94.2  94.2  94.2  94.2 159.6\n",
      " 129.8 152.6  94.2 152.6  94.2  94.2 159.6  94.2  94.2 129.8  94.2 297.8\n",
      " 158.8  94.2  94.2 152.6 297.8 159.6 129.8  94.2 129.8 159.6 129.8 152.6\n",
      " 152.6  55.2 152.6  94.2 159.6  94.2  94.2  94.2 159.6 297.8 129.8  94.2\n",
      "  94.2 152.6  94.2  94.2  55.2 129.8 158.8 152.6  94.2  55.2 158.8 152.6\n",
      "  55.2  55.2  94.2 297.8 152.6  94.2  94.2  94.2  94.2  94.2 152.6 129.8\n",
      "  94.2 152.6  55.2 129.8 152.6  55.2  94.2 152.6  55.2  94.2 159.6  55.2\n",
      "  94.2  94.2  94.2 152.6 297.8 129.8 152.6  94.2  94.2  94.2 129.8 129.8\n",
      "  94.2 152.6 129.8 158.8 152.6 129.8  94.2  94.2 159.6 129.8  94.2  94.2\n",
      "  55.2 129.8  94.2  55.2 159.6  55.2 129.8  94.2  94.2 158.8  94.2  94.2\n",
      " 152.6  94.2 152.6  94.2  94.2 158.8  94.2 159.6  94.2  94.2 129.8  55.2\n",
      "  94.2  94.2  94.2  94.2 129.8 129.8 129.8 129.8  94.2 152.6 152.6  94.2\n",
      " 129.8  94.2  94.2  94.2  94.2 129.8  94.2  94.2  94.2  94.2  94.2 159.6\n",
      "  94.2 129.8  94.2  94.2 158.8  94.2  55.2 129.8  94.2 159.6 158.8  94.2\n",
      "  94.2 287.4  55.2  94.2  94.2 158.8  94.2  94.2  94.2  94.2 152.6  55.2\n",
      " 152.6 129.8 152.6 152.6  94.2  94.2  94.2 152.6 159.6 152.6 129.8  94.2\n",
      "  55.2  94.2 159.6 129.8 152.6 152.6 129.8  94.2 152.6  94.2 159.6  94.2\n",
      "  94.2 263.6  55.2  94.2  94.2  94.2 158.8 159.6 129.8  94.2  94.2  94.2\n",
      " 263.6  94.2  94.2  94.2 129.8  94.2 158.8 129.8 129.8 158.8  94.2 152.6\n",
      "  94.2  94.2 159.6 152.6  94.2  94.2  55.2  94.2  94.2 129.8  94.2 129.8\n",
      " 129.8 158.8  94.2 152.6 152.6 159.6  94.2 158.8 152.6 129.8 159.6  94.2\n",
      " 152.6 158.8 129.8 297.8 152.6  94.2 152.6  94.2  94.2  94.2  55.2 152.6\n",
      "  94.2 129.8 129.8  94.2 297.8 152.6 152.6  94.2 263.6 129.8 152.6 158.8\n",
      "  55.2  55.2  94.2  55.2 152.6 158.8 152.6 159.6  94.2 129.8 152.6  94.2\n",
      "  94.2 129.8  94.2  94.2  55.2 152.6 297.8  94.2 158.8  94.2  94.2  94.2\n",
      " 158.8  94.2 158.8 152.6  94.2  94.2  94.2 152.6  94.2  94.2  94.2  94.2\n",
      " 152.6  94.2  94.2  94.2 263.6  94.2 159.6  94.2 152.6  94.2 152.6  94.2\n",
      " 152.6 152.6 152.6  94.2  94.2 158.8 129.8  94.2 159.6 158.8 152.6  94.2\n",
      " 297.8 152.6  94.2  55.2 152.6 129.8 129.8  94.2 312.8  94.2 129.8 129.8\n",
      "  94.2 129.8  94.2 152.6 152.6  94.2  94.2 287.4  94.2 297.8 152.6  94.2\n",
      "  94.2  94.2  94.2  94.2 159.6  94.2 159.6  94.2 152.6 152.6  94.2  55.2\n",
      "  94.2  94.2 263.6 152.6  94.2 152.6  94.2  94.2  94.2  94.2  94.2 152.6\n",
      "  55.2  94.2 129.8 159.6 129.8 129.8  94.2  94.2  94.2  94.2 152.6 152.6\n",
      "  55.2 152.6  94.2 152.6  94.2  94.2  94.2 129.8  94.2 129.8 129.8 152.6\n",
      "  94.2  94.2 159.6  94.2 152.6 152.6  94.2  94.2  94.2 453.6 152.6 152.6\n",
      " 152.6 159.6  94.2 129.8 129.8 129.8  94.2 263.6  94.2  94.2  94.2 152.6\n",
      "  94.2  94.2 158.8  94.2  94.2  94.2  94.2  55.2  94.2  94.2 152.6  94.2\n",
      " 341.2 152.6 158.8 152.6  55.2  94.2 159.6  94.2 129.8  94.2  94.2  94.2\n",
      "  94.2 152.6 152.6 159.6  94.2 129.8  94.2  94.2 159.6 263.6  55.2  55.2\n",
      "  94.2 297.8 159.6]\n",
      "18546.832901023892 136.18675743633773\n"
     ]
    }
   ],
   "source": [
    "from sklearn.neighbors import KNeighborsRegressor\n",
    "\n",
    "train_df = normalized_listings.iloc[0:2792]\n",
    "test_df = normalized_listings.iloc[2792:]\n",
    "train_columns = ['accommodates']\n",
    "\n",
    "\n",
    "knn = KNeighborsRegressor(n_neighbors=5, algorithm='brute')\n",
    "knn.fit(train_df[train_columns], train_df['price'])\n",
    "predictions = knn.predict(test_df[train_columns])\n",
    "print(predictions)\n",
    "\n",
    "from sklearn.metrics import mean_squared_error\n",
    "two_features_mse=mean_squared_error(test_df['price'],predictions)\n",
    "two_features_rmse=two_features_mse**(0.5)\n",
    "print(two_features_mse,two_features_rmse)"
   ]
  },
  {
   "cell_type": "markdown",
   "metadata": {},
   "source": [
    "# thus we see that when we trained 2 univariant models with accomodation variable in the 1st one and bathrooms in the 2nd. We observe that traning the models with both vairiables combined yielded to a lower mean squared error and root mean squared error."
   ]
  },
  {
   "cell_type": "markdown",
   "metadata": {},
   "source": [
    "# # Now let us train the model through four variables"
   ]
  },
  {
   "cell_type": "code",
   "execution_count": 17,
   "metadata": {},
   "outputs": [
    {
     "name": "stdout",
     "output_type": "stream",
     "text": [
      "13322.432400455064 115.42284176217056\n"
     ]
    }
   ],
   "source": [
    "features = ['accommodates', 'bedrooms', 'bathrooms', 'number_of_reviews']\n",
    "from sklearn.neighbors import KNeighborsRegressor\n",
    "knn = KNeighborsRegressor(n_neighbors=5, algorithm='brute')\n",
    "knn.fit(train_df[features],train_df['price'])\n",
    "four_predictions=knn.predict(test_df[features])\n",
    "from sklearn.metrics import mean_squared_error\n",
    "four_mse=mean_squared_error(test_df['price'],four_predictions)\n",
    "four_rmse=four_mse**(0.5)\n",
    "print(four_mse,four_rmse)"
   ]
  },
  {
   "cell_type": "markdown",
   "metadata": {},
   "source": [
    "# As the features increased we see lower error"
   ]
  },
  {
   "cell_type": "markdown",
   "metadata": {},
   "source": [
    "# Now let us experiment and use all the features except price value and we see that selecting all or lots of features doesn't  guarentee better effeciency."
   ]
  },
  {
   "cell_type": "code",
   "execution_count": 18,
   "metadata": {},
   "outputs": [
    {
     "name": "stdout",
     "output_type": "stream",
     "text": [
      "['accommodates', 'bedrooms', 'bathrooms', 'beds', 'minimum_nights', 'maximum_nights', 'number_of_reviews']\n",
      "15455.275631399316 115.42284176217056\n"
     ]
    }
   ],
   "source": [
    "features=train_df.columns.tolist()\n",
    "features.remove('price')\n",
    "print(features)\n",
    "\n",
    "from sklearn.neighbors import KNeighborsRegressor\n",
    "knn = KNeighborsRegressor(n_neighbors=5, algorithm='brute')\n",
    "knn.fit(train_df[features],train_df['price'])\n",
    "all_features_predictions=knn.predict(test_df[features])\n",
    "from sklearn.metrics import mean_squared_error\n",
    "all_features_mse=mean_squared_error(test_df['price'],all_features_predictions)\n",
    "all_features_rmse=four_mse**(0.5)\n",
    "print(all_features_mse,all_features_rmse)"
   ]
  },
  {
   "cell_type": "markdown",
   "metadata": {},
   "source": [
    "# Checking all the parameters that are not dependant on data like K  (Hyper parameter optimization)"
   ]
  },
  {
   "cell_type": "code",
   "execution_count": 19,
   "metadata": {},
   "outputs": [
    {
     "name": "stdout",
     "output_type": "stream",
     "text": [
      "[1, 2, 3, 4, 5]\n",
      "[25897.758816837315, 14829.874004550626, 14507.932625458221, 14633.708333333334, 13322.432400455064]\n"
     ]
    }
   ],
   "source": [
    "from sklearn.neighbors import KNeighborsRegressor\n",
    "from sklearn.metrics import mean_squared_error\n",
    "hyper_params=[i for i in range(1,6)]\n",
    "features=['accommodates','bedrooms','bathrooms','number_of_reviews']\n",
    "print(hyper_params)\n",
    "mse_values=[]\n",
    "for x in hyper_params:\n",
    "    knn=KNeighborsRegressor(n_neighbors=x,algorithm='brute')\n",
    "    knn.fit(train_df[features],train_df['price'])\n",
    "    predictions=knn.predict(test_df[features])\n",
    "    mse=mean_squared_error(test_df['price'],predictions)\n",
    "    mse_values.append(mse)\n",
    "print(mse_values)    "
   ]
  },
  {
   "cell_type": "markdown",
   "metadata": {},
   "source": [
    "# let us check for more k values"
   ]
  },
  {
   "cell_type": "code",
   "execution_count": 22,
   "metadata": {},
   "outputs": [
    {
     "name": "stdout",
     "output_type": "stream",
     "text": [
      "[25897.758816837315, 14829.874004550626, 14507.932625458221, 14633.708333333334, 13322.432400455064, 12903.254708633547, 13126.052448283068, 13380.156054465302, 13654.969325411872, 14103.407940841866, 14133.00453182147, 14372.550246492225, 14475.569972602003, 14437.902527222492, 14520.491032739223, 14620.297741574232, 14708.674157878368, 14665.33477647158, 14639.924246578365, 14572.638831058024]\n",
      "12903.254708633547\n"
     ]
    }
   ],
   "source": [
    "from sklearn.neighbors import KNeighborsRegressor\n",
    "from sklearn.metrics import mean_squared_error\n",
    "hyper_params=[i for i in range(1,21)]\n",
    "features=['accommodates','bedrooms','bathrooms','number_of_reviews']\n",
    "mse_values=[]\n",
    "for x in hyper_params:\n",
    "    knn=KNeighborsRegressor(n_neighbors=x,algorithm='brute')\n",
    "    knn.fit(train_df[features],train_df['price'])\n",
    "    predictions=knn.predict(test_df[features])\n",
    "    mse=mean_squared_error(test_df['price'],predictions)\n",
    "    mse_values.append(mse)\n",
    "print(mse_values)  \n",
    "print(min(mse_values))"
   ]
  },
  {
   "cell_type": "markdown",
   "metadata": {},
   "source": [
    "# Visualization of k depency"
   ]
  },
  {
   "cell_type": "code",
   "execution_count": 31,
   "metadata": {},
   "outputs": [
    {
     "data": {
      "image/png": "[encoded data removed]",
      "text/plain": [
       "<matplotlib.figure.Figure at 0x24cd79ccf28>"
      ]
     },
     "metadata": {},
     "output_type": "display_data"
    }
   ],
   "source": [
    "import matplotlib.pyplot as plt\n",
    "%matplotlib inline\n",
    "\n",
    "features = ['accommodates', 'bedrooms', 'bathrooms', 'number_of_reviews']\n",
    "hyper_params = [x for x in range(1, 21)]\n",
    "mse_values = list()\n",
    "\n",
    "for hp in hyper_params:\n",
    "    knn = KNeighborsRegressor(n_neighbors=hp, algorithm='brute')\n",
    "    knn.fit(train_df[features], train_df['price'])\n",
    "    predictions = knn.predict(test_df[features])\n",
    "    mse = mean_squared_error(test_df['price'], predictions)\n",
    "    mse_values.append(mse)\n",
    "plt.scatter(hyper_params,mse_values)\n",
    "plt.show()"
   ]
  },
  {
   "cell_type": "markdown",
   "metadata": {},
   "source": [
    "# the lowest is at k=6 hence it is the optimal value that should be considered."
   ]
  },
  {
   "cell_type": "markdown",
   "metadata": {},
   "source": [
    "# In the previous experimental attempt we used all parameters except 'price' and saw the output which was not a better effeciency than only 4 parameters that we choose before.Hence we concluded that effeciency doesn't increase on increasing features instead perfect features are required.\n",
    "In hyperparameter optimization we learned that an optimum k can be found by grid search method. Now let us experiment to find an optimal k for all the parameteres except 'price' to see if the effeciency is improving."
   ]
  },
  {
   "cell_type": "code",
   "execution_count": 32,
   "metadata": {},
   "outputs": [
    {
     "data": {
      "image/png": "[encoded data removed]",
      "text/plain": [
       "<matplotlib.figure.Figure at 0x24cd803b588>"
      ]
     },
     "metadata": {},
     "output_type": "display_data"
    }
   ],
   "source": [
    "hyper_params = [x for x in range(1,21)]\n",
    "mse_values = list()\n",
    "features=train_df.columns.tolist()\n",
    "features.remove('price')\n",
    "\n",
    "for x in hyper_params:\n",
    "    knn = KNeighborsRegressor(n_neighbors=x, algorithm='brute')\n",
    "    knn.fit(train_df[features], train_df['price'])\n",
    "    predictions = knn.predict(test_df[features])\n",
    "    mse = mean_squared_error(test_df['price'], predictions)\n",
    "    mse_values.append(mse)\n",
    "plt.scatter(hyper_params,mse_values)\n",
    "plt.show()"
   ]
  },
  {
   "cell_type": "markdown",
   "metadata": {},
   "source": [
    "# Now let us try again the previous model with all features except 'price'with k=2"
   ]
  },
  {
   "cell_type": "code",
   "execution_count": 33,
   "metadata": {},
   "outputs": [
    {
     "name": "stdout",
     "output_type": "stream",
     "text": [
      "['accommodates', 'bedrooms', 'bathrooms', 'beds', 'minimum_nights', 'maximum_nights', 'number_of_reviews']\n",
      "14917.095278725825 115.42284176217056\n"
     ]
    }
   ],
   "source": [
    "features=train_df.columns.tolist()\n",
    "features.remove('price')\n",
    "print(features)\n",
    "\n",
    "from sklearn.neighbors import KNeighborsRegressor\n",
    "knn = KNeighborsRegressor(n_neighbors=2, algorithm='brute')\n",
    "knn.fit(train_df[features],train_df['price'])\n",
    "all_features_predictions=knn.predict(test_df[features])\n",
    "from sklearn.metrics import mean_squared_error\n",
    "all_features_mse=mean_squared_error(test_df['price'],all_features_predictions)\n",
    "all_features_rmse=four_mse**(0.5)\n",
    "print(all_features_mse,all_features_rmse)"
   ]
  },
  {
   "cell_type": "markdown",
   "metadata": {},
   "source": [
    "# Now we see a better result than the previous where hyperparameter optimization wasn't done,but still this result is not the best that we obtained when we used only 4 parameters with k=6 hyperparameter optimization."
   ]
  },
  {
   "cell_type": "markdown",
   "metadata": {},
   "source": [
    "# lets do hyperparameter optimization to model with only two features and three features.\n"
   ]
  },
  {
   "cell_type": "code",
   "execution_count": 34,
   "metadata": {},
   "outputs": [
    {
     "name": "stdout",
     "output_type": "stream",
     "text": [
      "{6: 15587.77528125395} {5: 13285.701069397044}\n"
     ]
    }
   ],
   "source": [
    "two_features = ['accommodates', 'bathrooms']\n",
    "three_features = ['accommodates', 'bathrooms', 'bedrooms']\n",
    "hyper_params = [x for x in range(1,21)]\n",
    "\n",
    "two_mse_values = list()\n",
    "two_hyp_mse = dict()\n",
    "three_hyp_mse = dict()\n",
    "three_mse_values = list()\n",
    "for x in hyper_params:\n",
    "    knn = KNeighborsRegressor(n_neighbors=x, algorithm='brute')\n",
    "    knn.fit(train_df[two_features], train_df['price'])\n",
    "    predictions = knn.predict(test_df[two_features])\n",
    "    mse = mean_squared_error(test_df['price'], predictions)\n",
    "    two_mse_values.append(mse)\n",
    "    \n",
    "temp=two_mse_values[0]\n",
    "temp_key=1\n",
    "\n",
    "for key,val in enumerate(two_mse_values):\n",
    "#when enumerate is used key starts from 0    \n",
    "    if (val<temp):\n",
    "        temp=val\n",
    "        temp_key=key+1\n",
    "two_hyp_mse[temp_key] = temp  \n",
    "\n",
    "for x in hyper_params:\n",
    "    knn = KNeighborsRegressor(n_neighbors=x, algorithm='brute')\n",
    "    knn.fit(train_df[three_features], train_df['price'])\n",
    "    predictions = knn.predict(test_df[three_features])\n",
    "    mse = mean_squared_error(test_df['price'], predictions)\n",
    "    three_mse_values.append(mse)\n",
    "    \n",
    "    \n",
    "temp=three_mse_values[0]\n",
    "temp_key=1\n",
    "for key,val in enumerate(three_mse_values):\n",
    "#when enumerate is used key starts from 0    \n",
    "    if (val<temp):\n",
    "        temp=val\n",
    "        temp_key=key+1\n",
    "three_hyp_mse[temp_key] = temp      \n",
    "    \n",
    "print(two_hyp_mse,three_hyp_mse)"
   ]
  },
  {
   "cell_type": "raw",
   "metadata": {},
   "source": [
    "Thus we obtain k=6 for 2 feature model and k=5 for three feature model respectively."
   ]
  },
  {
   "cell_type": "markdown",
   "metadata": {},
   "source": [
    "# For a matter of fact 13285 is the least error that we have found in this entire project till now which is only by using three features and hyperparameter optimization.(Even lesser error than 4 features model + hp optimization)"
   ]
  },
  {
   "cell_type": "markdown",
   "metadata": {},
   "source": [
    "# Let us use holdout validation technique"
   ]
  },
  {
   "cell_type": "code",
   "execution_count": 19,
   "metadata": {
    "collapsed": true
   },
   "outputs": [],
   "source": [
    "'''import numpy as np\n",
    "import pandas as pd\n",
    "\n",
    "dc_listings = pd.read_csv(\"dc_airbnb.csv\")\n",
    "stripped_commas = dc_listings['price'].str.replace(',', '')\n",
    "stripped_dollars = stripped_commas.str.replace('$', '')\n",
    "dc_listings['price'] = stripped_dollars.astype('float')'''\n",
    "\n",
    "shuffled_index = np.random.permutation(dc_listings.index)\n",
    "dc_listings = dc_listings.reindex(shuffled_index)\n",
    "\n",
    "split_one=dc_listings.iloc[0:1862]\n",
    "split_two=dc_listings.iloc[1862:]\n"
   ]
  },
  {
   "cell_type": "code",
   "execution_count": 21,
   "metadata": {},
   "outputs": [
    {
     "name": "stdout",
     "output_type": "stream",
     "text": [
      "117.72468326695143 140.8295579907386\n",
      "129.277120628845\n"
     ]
    }
   ],
   "source": [
    "from sklearn.neighbors import KNeighborsRegressor\n",
    "from sklearn.metrics import mean_squared_error\n",
    "# holdout validation is when training and testing set is 50% and then both gets exchanges and we find the mean of errors.\n",
    "train_one = split_one\n",
    "test_one = split_two\n",
    "train_two = split_two\n",
    "test_two = split_one\n",
    "# 1st case\n",
    "knn=KNeighborsRegressor(algorithm='auto',n_neighbors=5)\n",
    "knn.fit(train_one[['accommodates']],train_one['price'])\n",
    "predictions=knn.predict(test_one[['accommodates']])\n",
    "iteration_one_mse=mean_squared_error(test_one['price'],predictions)\n",
    "iteration_one_rmse=iteration_one_mse**(0.5)\n",
    "#2nd case\n",
    "knn=KNeighborsRegressor(algorithm='auto',n_neighbors=5)\n",
    "knn.fit(train_two[['accommodates']],train_two['price'])\n",
    "predictions=knn.predict(test_two[['accommodates']])\n",
    "iteration_two_mse=mean_squared_error(test_two['price'],predictions)\n",
    "iteration_two_rmse=iteration_two_mse**(0.5)\n",
    "\n",
    "avg_rmse=np.mean([iteration_two_rmse,iteration_one_rmse])\n",
    "\n",
    "print(iteration_one_rmse,iteration_two_rmse)\n",
    "print(avg_rmse)"
   ]
  },
  {
   "cell_type": "markdown",
   "metadata": {},
   "source": [
    "# K- fold cross validation method (dividing data into k folds and alternately chosing 1 fold as the test data with rest as the train)"
   ]
  },
  {
   "cell_type": "markdown",
   "metadata": {},
   "source": [
    "# case1"
   ]
  },
  {
   "cell_type": "code",
   "execution_count": 18,
   "metadata": {},
   "outputs": [
    {
     "name": "stdout",
     "output_type": "stream",
     "text": [
      "2.0    745\n",
      "1.0    745\n",
      "4.0    744\n",
      "3.0    744\n",
      "5.0    693\n",
      "Name: fold, dtype: int64\n",
      "\n",
      " Num of missing values:  0\n"
     ]
    }
   ],
   "source": [
    "dc_listings.loc[dc_listings.index[0:745], \"fold\"] = 1\n",
    "dc_listings.loc[dc_listings.index[745:1490], \"fold\"] = 2\n",
    "dc_listings.loc[dc_listings.index[1490:2234], \"fold\"] = 3\n",
    "dc_listings.loc[dc_listings.index[2234:2978], \"fold\"] = 4\n",
    "dc_listings.loc[dc_listings.index[2978:3723], \"fold\"] = 5\n",
    "\n",
    "print(dc_listings['fold'].value_counts())\n",
    "print(\"\\n Num of missing values: \", dc_listings['fold'].isnull().sum())"
   ]
  },
  {
   "cell_type": "code",
   "execution_count": 19,
   "metadata": {},
   "outputs": [
    {
     "name": "stdout",
     "output_type": "stream",
     "text": [
      "105.45600004887692\n"
     ]
    }
   ],
   "source": [
    "from sklearn.neighbors import KNeighborsRegressor\n",
    "from sklearn.metrics import mean_squared_error\n",
    "train_df=dc_listings[dc_listings['fold']!=1]\n",
    "test_df=dc_listings[dc_listings['fold']==1]\n",
    "\n",
    "train_columns = ['accommodates']\n",
    "\n",
    "\n",
    "knn = KNeighborsRegressor(n_neighbors=5, algorithm='auto')\n",
    "knn.fit(train_df[train_columns], train_df['price'])\n",
    "predictions = knn.predict(test_df[train_columns])\n",
    "\n",
    "iteration_one_mse=mean_squared_error(test_df['price'],predictions)\n",
    "iteration_one_rmse=iteration_one_mse**(0.5)\n",
    "print(iteration_one_rmse)"
   ]
  },
  {
   "cell_type": "markdown",
   "metadata": {},
   "source": [
    "# let us do the rest of task by defning a func train_and_validate"
   ]
  },
  {
   "cell_type": "code",
   "execution_count": 21,
   "metadata": {},
   "outputs": [
    {
     "name": "stderr",
     "output_type": "stream",
     "text": [
      "C:\\Users\\neil pradhan\\Anaconda3\\lib\\site-packages\\ipykernel_launcher.py:16: SettingWithCopyWarning: \n",
      "A value is trying to be set on a copy of a slice from a DataFrame.\n",
      "Try using .loc[row_indexer,col_indexer] = value instead\n",
      "\n",
      "See the caveats in the documentation: http://pandas.pydata.org/pandas-docs/stable/indexing.html#indexing-view-versus-copy\n",
      "  app.launch_new_instance()\n"
     ]
    },
    {
     "name": "stdout",
     "output_type": "stream",
     "text": [
      "[105.45600004887692, 140.22399894167413, 153.35961918216583, 131.31358347216434, 114.07989529633392]\n",
      "128.88661938824302\n"
     ]
    }
   ],
   "source": [
    "from sklearn.neighbors import KNeighborsRegressor\n",
    "from sklearn.metrics import mean_squared_error\n",
    "\n",
    "\n",
    "import numpy as np\n",
    "\n",
    "fold_ids = [1,2,3,4,5]\n",
    "def train_and_validate(df,folds):\n",
    "    rmses=[]\n",
    "    for x in folds:\n",
    "        train_df=df[df['fold']!=x]\n",
    "        test_df=df[df['fold']==x]\n",
    "        train_columns = ['accommodates']\n",
    "        knn = KNeighborsRegressor(n_neighbors=5, algorithm='auto')\n",
    "        knn.fit(train_df[train_columns], train_df['price'])\n",
    "        test_df['predicted_price'] = knn.predict(test_df[train_columns])\n",
    "        mse=mean_squared_error(test_df['price'],test_df['predicted_price'])\n",
    "        rmse=mse**(0.5)\n",
    "        rmses.append(rmse)\n",
    "    avg_rmse=np.mean(rmses)    \n",
    "    return rmses\n",
    "k=train_and_validate(dc_listings,fold_ids)\n",
    "print(k)\n",
    "avg_rmse=np.mean(k)\n",
    "print(avg_rmse)"
   ]
  },
  {
   "cell_type": "code",
   "execution_count": 22,
   "metadata": {},
   "outputs": [
    {
     "name": "stdout",
     "output_type": "stream",
     "text": [
      "[148.57324706 108.34713663 137.74874572 108.02754316 139.79990703]\n",
      "128.49931592107862\n"
     ]
    }
   ],
   "source": [
    "from sklearn.model_selection import cross_val_score, KFold\n",
    "kf = KFold(n_splits=5, shuffle=True, random_state=1)\n",
    "knn=KNeighborsRegressor()\n",
    "mses=cross_val_score(knn,dc_listings[['accommodates']],dc_listings['price'],cv=kf,scoring=\"neg_mean_squared_error\")\n",
    "rmses = np.sqrt(np.absolute(mses))\n",
    "avg_rmse = np.mean(rmses)\n",
    "print(rmses)\n",
    "print(avg_rmse)"
   ]
  },
  {
   "cell_type": "markdown",
   "metadata": {},
   "source": [
    "# Choosing the right k is very essential. when k=2(hold out validation) where as when k=n=(no of observations) LOOCV\n",
    "let us experiment with different k values."
   ]
  },
  {
   "cell_type": "code",
   "execution_count": 25,
   "metadata": {},
   "outputs": [
    {
     "name": "stdout",
     "output_type": "stream",
     "text": [
      "3 folds:  avg RMSE:  123.17064375729854 std RMSE:  4.2689330359893765\n",
      "5 folds:  avg RMSE:  128.49931592107862 std RMSE:  16.97893890878854\n",
      "7 folds:  avg RMSE:  127.97513377042846 std RMSE:  20.49543527053172\n",
      "9 folds:  avg RMSE:  123.61872669423639 std RMSE:  24.383915795024848\n",
      "10 folds:  avg RMSE:  127.14768452083968 std RMSE:  24.12971080464867\n",
      "11 folds:  avg RMSE:  127.6162429896584 std RMSE:  29.36740885935232\n",
      "13 folds:  avg RMSE:  122.74835655496307 std RMSE:  32.37835226566323\n",
      "15 folds:  avg RMSE:  122.75764540123978 std RMSE:  32.89326016096263\n",
      "17 folds:  avg RMSE:  123.00505315300288 std RMSE:  35.48871237937227\n",
      "19 folds:  avg RMSE:  122.14821235192935 std RMSE:  35.17365639938169\n",
      "21 folds:  avg RMSE:  121.10942246881532 std RMSE:  37.115747446720576\n",
      "23 folds:  avg RMSE:  124.93985894775318 std RMSE:  39.278718711279566\n",
      "all_avg_rmses= [123.17064375729854, 128.49931592107862, 127.97513377042846, 123.61872669423639, 127.14768452083968, 127.6162429896584, 122.74835655496307, 122.75764540123978, 123.00505315300288, 122.14821235192935, 121.10942246881532, 124.93985894775318]\n"
     ]
    }
   ],
   "source": [
    "from sklearn.model_selection import cross_val_score, KFold\n",
    "\n",
    "num_folds = [3, 5, 7, 9, 10, 11, 13, 15, 17, 19, 21, 23]\n",
    "l=[]\n",
    "for fold in num_folds:\n",
    "    kf = KFold(fold, shuffle=True, random_state=1)\n",
    "    model = KNeighborsRegressor()\n",
    "    mses = cross_val_score(model, dc_listings[[\"accommodates\"]], dc_listings[\"price\"], scoring=\"neg_mean_squared_error\", cv=kf)\n",
    "    rmses = np.sqrt(np.absolute(mses))\n",
    "    avg_rmse = np.mean(rmses)\n",
    "    l.append(avg_rmse)\n",
    "    std_rmse = np.std(rmses)\n",
    "    print(str(fold), \"folds: \", \"avg RMSE: \", str(avg_rmse), \"std RMSE: \", str(std_rmse))\n",
    "print(\"all_avg_rmses=\",l)"
   ]
  }
 ],
 "metadata": {
  "kernelspec": {
   "display_name": "Python 3",
   "language": "python",
   "name": "python3"
  },
  "language_info": {
   "codemirror_mode": {
    "name": "ipython",
    "version": 3
   },
   "file_extension": ".py",
   "mimetype": "text/x-python",
   "name": "python",
   "nbconvert_exporter": "python",
   "pygments_lexer": "ipython3",
   "version": "3.6.1"
  }
 },
 "nbformat": 4,
 "nbformat_minor": 2
}
